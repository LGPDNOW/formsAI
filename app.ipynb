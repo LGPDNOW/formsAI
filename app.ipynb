{
 "cells": [
  {
   "cell_type": "code",
   "execution_count": 1,
   "metadata": {},
   "outputs": [],
   "source": [
    "from utils.func import *\n",
    "import numpy as np\n",
    "import pandas as pd\n"
   ]
  },
  {
   "cell_type": "code",
   "execution_count": 2,
   "metadata": {},
   "outputs": [
    {
     "name": "stdout",
     "output_type": "stream",
     "text": [
      "DataFrames carregados: ['unimed', 'flamengo', 'vtc_operadora', 'oab_sp', 'raizen', 'iate_clube_brasilia']\n"
     ]
    }
   ],
   "source": [
    "diretorio_base = 'base/'\n",
    "dataframes = carregar_csvs(diretorio_base)\n",
    "\n",
    "# Imprimindo os nomes (chaves) dos DataFrames carregados\n",
    "print(\"DataFrames carregados:\", list(dataframes.keys()))\n"
   ]
  },
  {
   "cell_type": "code",
   "execution_count": 3,
   "metadata": {
    "vscode": {
     "languageId": "javascript"
    }
   },
   "outputs": [
    {
     "name": "stdout",
     "output_type": "stream",
     "text": [
      "Campos comuns a todos os DataFrames: ['possibilidade_de_retirada_de_consentimento', 'u_unidade_tempo', 'outra_fonte_origem_dos_dados_pessoais', 'temporalidade', 'finalidade', 'declaracaociencia', 'compartilhamento_com_terceiros_operadores', 'number', 'meio_automatizado', 'lgpd_area', 'quais_areas_internas_da_organizacao', 'tipos_de_terceiros', 'finalidade_compartilhamento_interno', 'u_instrumentos_juridicos_sugeridos', 'medidas_seguranca', 'descricao_retirada_consentimento', 'os_dados_tratados_sao_limitados_aos_fins_espec_ficos_que_justificam_sua_coleta', 'tipo_dado_pessoal', 'fonte_origem_dos_dados_pessoais', 'outras_finalidades_areas_internas', 'lgpd_processo', 'nome_dos_terceiros', 'qual_o_canal_de_comunicacao', 'categoria_dados', 'assinale_abaixo_as_pol_ticas_j_utilizadas_na_sua_rea_processo', 'partes_que_acessam_usam_os_dados', 'outro_tipo_dado_pessoal', 'outras_medidas_seguranca', 'canal_de_comunicacao_questionario', 'base_legal_lgpd', 'outras_categoria_dados', 'outros_metodo_de_transferencia_para_destinos', 'descricao_do_processo', 'u_direitos_titular', 'finalidade_outro', 'u_conformidade', 'localizacao', 'lgpd_diretoria', 'paises_utilizando_o_processo', 'nome_do_questionario', 'lgpd_sistema', 'solicitacao_de_consentimento_quanto_a_coleta', 'areas_internas_com_acesso_aos_dados', 'metodo_de_transferencia_para_destinos', 'ha_transferencia_internacional_de_dados_pessoais', 'dado_pessoal_sensivel', 'titulares_de_dados_volume', 'localizacao_outro', 'outros_sistemas']\n"
     ]
    },
    {
     "data": {
      "text/plain": [
       "49"
      ]
     },
     "execution_count": 3,
     "metadata": {},
     "output_type": "execute_result"
    }
   ],
   "source": [
    "dataframes2=limpar_nomes(dataframes)\n",
    "campos_comuns = comparar_colunas(dataframes2)\n",
    "print(\"Campos comuns a todos os DataFrames:\", campos_comuns)\n",
    "len(campos_comuns)"
   ]
  },
  {
   "cell_type": "code",
   "execution_count": 4,
   "metadata": {},
   "outputs": [],
   "source": [
    "# Escolhendo dois DataFrames específicos para comparar\n",
    "df1_nome, df2_nome = 'unimed', 'flamengo'  # Substitua pelos nomes reais dos seus DataFrames\n",
    "df1, df2 = dataframes[df1_nome], dataframes[df2_nome]"
   ]
  },
  {
   "cell_type": "code",
   "execution_count": 5,
   "metadata": {},
   "outputs": [
    {
     "name": "stdout",
     "output_type": "stream",
     "text": [
      "Colunas exclusivas ao unimed: ['u_mecanismos_oposicao', 'u_tratamento_dado', 'u_finalidade_legitima', 'u_situacao_correta', 'u_outra_base_legal', 'u_principio_minizacao', 'u_tendencia', 'u_medida_mitigacao', 'u_criticidade', 'probabilidade', 'u_direitos_titular_parecer_juridico', 'impacto', 'temporalidade_legal', 'u_temporalidade_legal_outra', 'u_principio_transparencia', 'u_resultado']\n",
      "Colunas exclusivas ao flamengo: ['observacoes_gerais', 'tipo_do_responsavel_pelo_tratamento', 'outro_tipo_de_dado_pessoal_sensivel', 'justificativa_para_o_tempo_de_reten_o', 'tempo_de_retencao']\n"
     ]
    }
   ],
   "source": [
    "# comparando dois dataframes para identificar no olho colunas divergentes\n",
    "exclusivas_df1, exclusivas_df2 = comparar_colunas_diferentes(df1, df2)\n",
    "print(f\"Colunas exclusivas ao {df1_nome}: {exclusivas_df1}\")\n",
    "print(f\"Colunas exclusivas ao {df2_nome}: {exclusivas_df2}\")"
   ]
  },
  {
   "cell_type": "code",
   "execution_count": 6,
   "metadata": {},
   "outputs": [
    {
     "name": "stdout",
     "output_type": "stream",
     "text": [
      "['possibilidade_de_retirada_de_consentimento', 'u_unidade_tempo', 'outra_fonte_origem_dos_dados_pessoais', 'temporalidade', 'finalidade', 'declaracaociencia', 'compartilhamento_com_terceiros_operadores', 'number', 'meio_automatizado', 'lgpd_area', 'quais_areas_internas_da_organizacao', 'tipos_de_terceiros', 'finalidade_compartilhamento_interno', 'u_instrumentos_juridicos_sugeridos', 'medidas_seguranca', 'descricao_retirada_consentimento', 'os_dados_tratados_sao_limitados_aos_fins_espec_ficos_que_justificam_sua_coleta', 'tipo_dado_pessoal', 'fonte_origem_dos_dados_pessoais', 'outras_finalidades_areas_internas', 'lgpd_processo', 'nome_dos_terceiros', 'qual_o_canal_de_comunicacao', 'categoria_dados', 'assinale_abaixo_as_pol_ticas_j_utilizadas_na_sua_rea_processo', 'partes_que_acessam_usam_os_dados', 'outro_tipo_dado_pessoal', 'outras_medidas_seguranca', 'canal_de_comunicacao_questionario', 'base_legal_lgpd', 'outras_categoria_dados', 'outros_metodo_de_transferencia_para_destinos', 'descricao_do_processo', 'u_direitos_titular', 'finalidade_outro', 'u_conformidade', 'localizacao', 'lgpd_diretoria', 'paises_utilizando_o_processo', 'nome_do_questionario', 'lgpd_sistema', 'solicitacao_de_consentimento_quanto_a_coleta', 'areas_internas_com_acesso_aos_dados', 'metodo_de_transferencia_para_destinos', 'ha_transferencia_internacional_de_dados_pessoais', 'dado_pessoal_sensivel', 'titulares_de_dados_volume', 'localizacao_outro', 'outros_sistemas']\n"
     ]
    },
    {
     "data": {
      "text/plain": [
       "49"
      ]
     },
     "execution_count": 6,
     "metadata": {},
     "output_type": "execute_result"
    }
   ],
   "source": [
    "#gerando um df unico com todas as colunas que sao comuns entre os dataframes\n",
    "df_unido = unir_dataframes(dataframes)\n",
    "print(df_unido.columns.tolist())\n",
    "len(df_unido.columns.tolist())\n"
   ]
  },
  {
   "cell_type": "code",
   "execution_count": 7,
   "metadata": {},
   "outputs": [
    {
     "name": "stdout",
     "output_type": "stream",
     "text": [
      "Arquivo salvo com sucesso em: out/dados_unidos.csv\n"
     ]
    }
   ],
   "source": [
    "\n",
    "# Definindo o diretório de saída e o nome do arquivo\n",
    "diretorio_saida = 'out/'\n",
    "nome_arquivo = 'dados_unidos.csv'\n",
    "\n",
    "# Salvando o DataFrame em um arquivo CSV\n",
    "salvar_dataframe_em_csv(df_unido, diretorio_saida, nome_arquivo, index=False)"
   ]
  }
 ],
 "metadata": {
  "kernelspec": {
   "display_name": "devPy",
   "language": "python",
   "name": "python3"
  },
  "language_info": {
   "codemirror_mode": {
    "name": "ipython",
    "version": 3
   },
   "file_extension": ".py",
   "mimetype": "text/x-python",
   "name": "python",
   "nbconvert_exporter": "python",
   "pygments_lexer": "ipython3",
   "version": "3.11.8"
  }
 },
 "nbformat": 4,
 "nbformat_minor": 2
}
