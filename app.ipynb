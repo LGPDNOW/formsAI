{
 "cells": [
  {
   "cell_type": "code",
   "execution_count": null,
   "metadata": {},
   "outputs": [],
   "source": [
    "from utils.func import carregar_csvs, limpar_nomes, comparar_colunas, comparar_colunas_diferentes, unir_dataframes\n",
    "import numpy as np\n",
    "import pandas as pd\n"
   ]
  },
  {
   "cell_type": "code",
   "execution_count": null,
   "metadata": {},
   "outputs": [],
   "source": [
    "diretorio_base = 'base/'\n",
    "dataframes = carregar_csvs(diretorio_base)\n",
    "\n",
    "# Imprimindo os nomes (chaves) dos DataFrames carregados\n",
    "print(\"DataFrames carregados:\", list(dataframes.keys()))\n"
   ]
  },
  {
   "cell_type": "code",
   "execution_count": null,
   "metadata": {
    "vscode": {
     "languageId": "javascript"
    }
   },
   "outputs": [],
   "source": [
    "dataframes2=limpar_nomes(dataframes)\n",
    "campos_comuns = comparar_colunas(dataframes2)\n",
    "print(\"Campos comuns a todos os DataFrames:\", campos_comuns)\n",
    "len(campos_comuns)"
   ]
  },
  {
   "cell_type": "code",
   "execution_count": null,
   "metadata": {},
   "outputs": [],
   "source": [
    "# Escolhendo dois DataFrames específicos para comparar\n",
    "df1_nome, df2_nome = 'unimed', 'flamengo'  # Substitua pelos nomes reais dos seus DataFrames\n",
    "df1, df2 = dataframes[df1_nome], dataframes[df2_nome]"
   ]
  },
  {
   "cell_type": "code",
   "execution_count": null,
   "metadata": {},
   "outputs": [],
   "source": [
    "# comparando dois dataframes para identificar no olho colunas divergentes\n",
    "exclusivas_df1, exclusivas_df2 = comparar_colunas_diferentes(df1, df2)\n",
    "print(f\"Colunas exclusivas ao {df1_nome}: {exclusivas_df1}\")\n",
    "print(f\"Colunas exclusivas ao {df2_nome}: {exclusivas_df2}\")"
   ]
  },
  {
   "cell_type": "code",
   "execution_count": null,
   "metadata": {},
   "outputs": [],
   "source": [
    "#gerando um df unico com todas as colunas que sao comuns entre os dataframes\n",
    "df_unido = unir_dataframes(dataframes)\n",
    "print(df_unido.columns.tolist())\n",
    "len(df_unido.columns.tolist())\n"
   ]
  }
 ],
 "metadata": {
  "kernelspec": {
   "display_name": "devPy",
   "language": "python",
   "name": "python3"
  },
  "language_info": {
   "codemirror_mode": {
    "name": "ipython",
    "version": 3
   },
   "file_extension": ".py",
   "mimetype": "text/x-python",
   "name": "python",
   "nbconvert_exporter": "python",
   "pygments_lexer": "ipython3",
   "version": "3.11.8"
  }
 },
 "nbformat": 4,
 "nbformat_minor": 2
}
