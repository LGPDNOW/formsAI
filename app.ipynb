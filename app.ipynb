{
 "cells": [
  {
   "cell_type": "code",
   "execution_count": 13,
   "metadata": {},
   "outputs": [],
   "source": [
    "from utils.func import *\n",
    "import numpy as np\n",
    "import pandas as pd\n"
   ]
  },
  {
   "cell_type": "code",
   "execution_count": 14,
   "metadata": {},
   "outputs": [
    {
     "name": "stdout",
     "output_type": "stream",
     "text": [
      "DataFrames carregados: ['unimed', 'flamengo', 'vtc_operadora', 'oab_sp', 'raizen', 'iate_clube_brasilia']\n"
     ]
    }
   ],
   "source": [
    "#definir o diretorio base\n",
    "diretorio_base = 'base/'\n",
    "dataframes = carregar_csvs(diretorio_base)\n",
    "\n",
    "# Imprimindo os nomes (chaves) dos DataFrames carregados\n",
    "print(\"DataFrames carregados:\", list(dataframes.keys()))\n"
   ]
  },
  {
   "cell_type": "code",
   "execution_count": 16,
   "metadata": {
    "vscode": {
     "languageId": "javascript"
    }
   },
   "outputs": [
    {
     "name": "stdout",
     "output_type": "stream",
     "text": [
      "Campos comuns a todos os DataFrames: ['tipos_de_terceiros', 'outra_fonte_origem_dos_dados_pessoais', 'u_direitos_titular', 'qual_o_canal_de_comunicacao', 'fonte_origem_dos_dados_pessoais', 'finalidade', 'finalidade_outro', 'meio_automatizado', 'canal_de_comunicacao_questionario', 'tipo_dado_pessoal', 'metodo_de_transferencia_para_destinos', 'u_conformidade', 'solicitacao_de_consentimento_quanto_a_coleta', 'ha_transferencia_internacional_de_dados_pessoais', 'assinale_abaixo_as_pol_ticas_j_utilizadas_na_sua_rea_processo', 'finalidade_compartilhamento_interno', 'os_dados_tratados_sao_limitados_aos_fins_espec_ficos_que_justificam_sua_coleta', 'outras_finalidades_areas_internas', 'possibilidade_de_retirada_de_consentimento', 'dado_pessoal_sensivel', 'titulares_de_dados_volume', 'outros_metodo_de_transferencia_para_destinos', 'lgpd_sistema', 'compartilhamento_com_terceiros_operadores', 'nome_do_questionario', 'descricao_do_processo', 'quais_areas_internas_da_organizacao', 'declaracaociencia', 'u_instrumentos_juridicos_sugeridos', 'number', 'nome_dos_terceiros', 'categoria_dados', 'base_legal_lgpd', 'lgpd_diretoria', 'localizacao_outro', 'areas_internas_com_acesso_aos_dados', 'lgpd_processo', 'localizacao', 'outras_medidas_seguranca', 'medidas_seguranca', 'paises_utilizando_o_processo', 'outros_sistemas', 'lgpd_area', 'outras_categoria_dados', 'descricao_retirada_consentimento', 'u_unidade_tempo', 'partes_que_acessam_usam_os_dados', 'temporalidade', 'outro_tipo_dado_pessoal']\n"
     ]
    },
    {
     "data": {
      "text/plain": [
       "49"
      ]
     },
     "execution_count": 16,
     "metadata": {},
     "output_type": "execute_result"
    }
   ],
   "source": [
    "dataframes2=limpar_nomes(dataframes)\n",
    "campos_comuns = comparar_colunas(dataframes2)\n",
    "print(\"Campos comuns a todos os DataFrames:\", campos_comuns)\n",
    "len(campos_comuns)"
   ]
  },
  {
   "cell_type": "code",
   "execution_count": 17,
   "metadata": {},
   "outputs": [],
   "source": [
    "# Escolhendo dois DataFrames específicos para comparar\n",
    "df1_nome, df2_nome = 'unimed', 'flamengo'  # Substitua pelos nomes reais dos seus DataFrames\n",
    "df1, df2 = dataframes[df1_nome], dataframes[df2_nome]"
   ]
  },
  {
   "cell_type": "code",
   "execution_count": 19,
   "metadata": {},
   "outputs": [
    {
     "data": {
      "text/plain": [
       "u_conformidade\n",
       "Não    59\n",
       "Sim     3\n",
       "Name: count, dtype: int64"
      ]
     },
     "execution_count": 19,
     "metadata": {},
     "output_type": "execute_result"
    }
   ],
   "source": [
    "#df1.head()\n",
    "#series a partir de um dataframe\n",
    "df2['u_conformidade'].value_counts()"
   ]
  },
  {
   "cell_type": "code",
   "execution_count": 20,
   "metadata": {},
   "outputs": [
    {
     "name": "stdout",
     "output_type": "stream",
     "text": [
      "Colunas exclusivas ao unimed: ['u_situacao_correta', 'temporalidade_legal', 'u_principio_minizacao', 'u_direitos_titular_parecer_juridico', 'u_temporalidade_legal_outra', 'u_outra_base_legal', 'u_tratamento_dado', 'u_mecanismos_oposicao', 'u_medida_mitigacao', 'u_criticidade', 'impacto', 'u_tendencia', 'u_finalidade_legitima', 'probabilidade', 'u_resultado', 'u_principio_transparencia']\n",
      "Colunas exclusivas ao flamengo: ['observacoes_gerais', 'outro_tipo_de_dado_pessoal_sensivel', 'justificativa_para_o_tempo_de_reten_o', 'tempo_de_retencao', 'tipo_do_responsavel_pelo_tratamento']\n"
     ]
    }
   ],
   "source": [
    "# comparando dois dataframes para identificar no olho colunas divergentes\n",
    "exclusivas_df1, exclusivas_df2 = comparar_colunas_diferentes(df1, df2)\n",
    "print(f\"Colunas exclusivas ao {df1_nome}: {exclusivas_df1}\")\n",
    "print(f\"Colunas exclusivas ao {df2_nome}: {exclusivas_df2}\")"
   ]
  },
  {
   "cell_type": "code",
   "execution_count": 21,
   "metadata": {},
   "outputs": [
    {
     "name": "stdout",
     "output_type": "stream",
     "text": [
      "['tipos_de_terceiros', 'outra_fonte_origem_dos_dados_pessoais', 'u_direitos_titular', 'qual_o_canal_de_comunicacao', 'fonte_origem_dos_dados_pessoais', 'finalidade', 'finalidade_outro', 'meio_automatizado', 'canal_de_comunicacao_questionario', 'tipo_dado_pessoal', 'metodo_de_transferencia_para_destinos', 'u_conformidade', 'solicitacao_de_consentimento_quanto_a_coleta', 'ha_transferencia_internacional_de_dados_pessoais', 'assinale_abaixo_as_pol_ticas_j_utilizadas_na_sua_rea_processo', 'finalidade_compartilhamento_interno', 'os_dados_tratados_sao_limitados_aos_fins_espec_ficos_que_justificam_sua_coleta', 'outras_finalidades_areas_internas', 'possibilidade_de_retirada_de_consentimento', 'dado_pessoal_sensivel', 'titulares_de_dados_volume', 'outros_metodo_de_transferencia_para_destinos', 'lgpd_sistema', 'compartilhamento_com_terceiros_operadores', 'nome_do_questionario', 'descricao_do_processo', 'quais_areas_internas_da_organizacao', 'declaracaociencia', 'u_instrumentos_juridicos_sugeridos', 'number', 'nome_dos_terceiros', 'categoria_dados', 'base_legal_lgpd', 'lgpd_diretoria', 'localizacao_outro', 'areas_internas_com_acesso_aos_dados', 'lgpd_processo', 'localizacao', 'outras_medidas_seguranca', 'medidas_seguranca', 'paises_utilizando_o_processo', 'outros_sistemas', 'lgpd_area', 'outras_categoria_dados', 'descricao_retirada_consentimento', 'u_unidade_tempo', 'partes_que_acessam_usam_os_dados', 'temporalidade', 'outro_tipo_dado_pessoal']\n"
     ]
    },
    {
     "data": {
      "text/plain": [
       "count             1339\n",
       "unique               3\n",
       "top       Parcialmente\n",
       "freq               626\n",
       "Name: u_conformidade, dtype: object"
      ]
     },
     "execution_count": 21,
     "metadata": {},
     "output_type": "execute_result"
    }
   ],
   "source": [
    "#gerando um df unico com todas as colunas que sao comuns entre os dataframes\n",
    "df_unido = unir_dataframes(dataframes)\n",
    "print(df_unido.columns.tolist())\n",
    "len(df_unido.columns.tolist())\n",
    "\n",
    "df_unido['u_conformidade'].describe()\n"
   ]
  },
  {
   "cell_type": "code",
   "execution_count": 22,
   "metadata": {},
   "outputs": [
    {
     "name": "stdout",
     "output_type": "stream",
     "text": [
      "['tipos_de_terceiros', 'outra_fonte_origem_dos_dados_pessoais', 'u_direitos_titular', 'qual_o_canal_de_comunicacao', 'fonte_origem_dos_dados_pessoais', 'finalidade', 'finalidade_outro', 'meio_automatizado', 'canal_de_comunicacao_questionario', 'tipo_dado_pessoal', 'metodo_de_transferencia_para_destinos', 'u_conformidade', 'solicitacao_de_consentimento_quanto_a_coleta', 'ha_transferencia_internacional_de_dados_pessoais', 'assinale_abaixo_as_pol_ticas_j_utilizadas_na_sua_rea_processo', 'finalidade_compartilhamento_interno', 'os_dados_tratados_sao_limitados_aos_fins_espec_ficos_que_justificam_sua_coleta', 'outras_finalidades_areas_internas', 'possibilidade_de_retirada_de_consentimento', 'dado_pessoal_sensivel', 'titulares_de_dados_volume', 'outros_metodo_de_transferencia_para_destinos', 'lgpd_sistema', 'compartilhamento_com_terceiros_operadores', 'nome_do_questionario', 'descricao_do_processo', 'quais_areas_internas_da_organizacao', 'declaracaociencia', 'u_instrumentos_juridicos_sugeridos', 'number', 'nome_dos_terceiros', 'categoria_dados', 'base_legal_lgpd', 'lgpd_diretoria', 'localizacao_outro', 'areas_internas_com_acesso_aos_dados', 'lgpd_processo', 'localizacao', 'outras_medidas_seguranca', 'medidas_seguranca', 'paises_utilizando_o_processo', 'outros_sistemas', 'lgpd_area', 'outras_categoria_dados', 'descricao_retirada_consentimento', 'u_unidade_tempo', 'partes_que_acessam_usam_os_dados', 'temporalidade', 'outro_tipo_dado_pessoal']\n"
     ]
    }
   ],
   "source": [
    "print(df_unido.columns.tolist())"
   ]
  },
  {
   "cell_type": "code",
   "execution_count": null,
   "metadata": {},
   "outputs": [],
   "source": [
    "# Contando valores únicos de uma coluna\n",
    "df_unido['paises_utilizando_o_processo'].value_counts()\n",
    "\n",
    "df_unido.loc[df_unido['paises_utilizando_o_processo'] == \"RELATORIO PÓS CIRURGICO, DATA DA CIRUGIA, MATERIAIS UTILIZADOS NA CICURGIA, CID\"]\n"
   ]
  },
  {
   "cell_type": "code",
   "execution_count": null,
   "metadata": {},
   "outputs": [],
   "source": [
    "\n",
    "# Definindo o diretório de saída e o nome do arquivo\n",
    "diretorio_saida = 'out/'\n",
    "nome_arquivo = 'dados_unidos.csv'\n",
    "\n",
    "# Salvando o DataFrame em um arquivo CSV\n",
    "salvar_dataframe_em_csv(df_unido, diretorio_saida, nome_arquivo, index=False)"
   ]
  },
  {
   "cell_type": "code",
   "execution_count": null,
   "metadata": {},
   "outputs": [],
   "source": [
    "#carregadno o arquivo de dads unidos\n",
    "df_dado = 'out/dados_unidos.csv'\n",
    "\n",
    "df = pd.read_csv(df_dado, sep=';', encoding='utf-8')\n",
    "\n",
    "df.head()\n"
   ]
  }
 ],
 "metadata": {
  "kernelspec": {
   "display_name": "devPy",
   "language": "python",
   "name": "python3"
  },
  "language_info": {
   "codemirror_mode": {
    "name": "ipython",
    "version": 3
   },
   "file_extension": ".py",
   "mimetype": "text/x-python",
   "name": "python",
   "nbconvert_exporter": "python",
   "pygments_lexer": "ipython3",
   "version": "3.11.8"
  }
 },
 "nbformat": 4,
 "nbformat_minor": 2
}
