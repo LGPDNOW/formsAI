{
  "cells": [
    {
      "cell_type": "markdown",
      "metadata": {
        "id": "yTdsnvQpdhAH"
      },
      "source": [
        "\n",
        "\n",
        "##Importa e visualiza Datasets\n",
        "\n"
      ]
    },
    {
      "cell_type": "code",
      "execution_count": 1,
      "metadata": {
        "id": "Rgi4JPPBdiHT"
      },
      "outputs": [
        {
          "name": "stderr",
          "output_type": "stream",
          "text": [
            "/Users/maelsonmarquesdelima/anaconda3/lib/python3.11/site-packages/pandas/core/arrays/masked.py:60: UserWarning: Pandas requires version '1.3.6' or newer of 'bottleneck' (version '1.3.5' currently installed).\n",
            "  from pandas.core import (\n"
          ]
        }
      ],
      "source": [
        "import pandas as pd"
      ]
    },
    {
      "cell_type": "code",
      "execution_count": 2,
      "metadata": {
        "id": "_vRwsPHgBZs0"
      },
      "outputs": [],
      "source": [
        "df1_caminho = 'base/flamengo.csv'\n",
        "df2_caminho = 'base/raizen.csv'\n",
        "df3_caminho = 'base/oab_sp.csv'\n",
        "df4_caminho = 'base/unimed.csv'\n",
        "df5_caminho = 'base/vtc_operadora.csv'\n",
        "df6_caminho = 'base/iate_clube_brasilia.csv'\n",
        "\n",
        "#melhorar para import unico"
      ]
    },
    {
      "cell_type": "code",
      "execution_count": 3,
      "metadata": {
        "id": "bU8DNRejgGs2"
      },
      "outputs": [],
      "source": [
        "df1 = pd.read_csv(df1_caminho, delimiter =';',encoding='utf-8')\n",
        "df2 = pd.read_csv(df2_caminho, delimiter =';')\n",
        "df3 = pd.read_csv(df3_caminho, delimiter =';')\n",
        "df4 = pd.read_csv(df4_caminho, delimiter =';')\n",
        "df5 = pd.read_csv(df5_caminho, delimiter =';')\n",
        "df6 = pd.read_csv(df6_caminho, delimiter =';')\n"
      ]
    },
    {
      "cell_type": "code",
      "execution_count": 4,
      "metadata": {},
      "outputs": [
        {
          "data": {
            "text/html": [
              "<div>\n",
              "<style scoped>\n",
              "    .dataframe tbody tr th:only-of-type {\n",
              "        vertical-align: middle;\n",
              "    }\n",
              "\n",
              "    .dataframe tbody tr th {\n",
              "        vertical-align: top;\n",
              "    }\n",
              "\n",
              "    .dataframe thead th {\n",
              "        text-align: right;\n",
              "    }\n",
              "</style>\n",
              "<table border=\"1\" class=\"dataframe\">\n",
              "  <thead>\n",
              "    <tr style=\"text-align: right;\">\n",
              "      <th></th>\n",
              "      <th>number</th>\n",
              "      <th>﻿nome_do_questionario</th>\n",
              "      <th>﻿lgpd_diretoria</th>\n",
              "      <th>﻿lgpd_area</th>\n",
              "      <th>﻿lgpd_processo</th>\n",
              "      <th>﻿descricao_do_processo</th>\n",
              "      <th>﻿lgpd_sistema</th>\n",
              "      <th>﻿outros_sistemas</th>\n",
              "      <th>﻿categoria_dados</th>\n",
              "      <th>﻿outras_categoria_dados</th>\n",
              "      <th>...</th>\n",
              "      <th>﻿u_criticidade</th>\n",
              "      <th>﻿u_finalidade_legitima</th>\n",
              "      <th>﻿u_principio_minizacao</th>\n",
              "      <th>﻿u_situacao_correta</th>\n",
              "      <th>﻿u_outra_base_legal</th>\n",
              "      <th>﻿u_direitos_titular_parecer_juridico</th>\n",
              "      <th>﻿u_tratamento_dado</th>\n",
              "      <th>﻿u_mecanismos_oposicao</th>\n",
              "      <th>﻿u_principio_transparencia</th>\n",
              "      <th>﻿u_medida_mitigacao</th>\n",
              "    </tr>\n",
              "  </thead>\n",
              "  <tbody>\n",
              "    <tr>\n",
              "      <th>0</th>\n",
              "      <td>Q0016892</td>\n",
              "      <td>Teste Unimed</td>\n",
              "      <td>ADMINISTRATIVA</td>\n",
              "      <td>Gerencia Administrativa</td>\n",
              "      <td>RATEIO CONTA VIVO</td>\n",
              "      <td>Teste Unimed</td>\n",
              "      <td>Acesso A Internet, Acesso A Site</td>\n",
              "      <td>NaN</td>\n",
              "      <td>abb989921b4efc10ff2f0f60f54bcbb4, Outras categ...</td>\n",
              "      <td>Teste Unimed....</td>\n",
              "      <td>...</td>\n",
              "      <td>Sem Criticidade</td>\n",
              "      <td>NaN</td>\n",
              "      <td>NaN</td>\n",
              "      <td>NaN</td>\n",
              "      <td>NaN</td>\n",
              "      <td>NaN</td>\n",
              "      <td>NaN</td>\n",
              "      <td>NaN</td>\n",
              "      <td>NaN</td>\n",
              "      <td>NaN</td>\n",
              "    </tr>\n",
              "    <tr>\n",
              "      <th>1</th>\n",
              "      <td>Q0017268</td>\n",
              "      <td>backup -</td>\n",
              "      <td>PRESIDENTE</td>\n",
              "      <td>Segurança da Informação</td>\n",
              "      <td>Backup gravações</td>\n",
              "      <td>REALIZAR BACKUP DAS GRAVAÇÕES CALLCENTER E RAM...</td>\n",
              "      <td>Filezilla, Dropbox</td>\n",
              "      <td>NaN</td>\n",
              "      <td>Outras categorias</td>\n",
              "      <td>Dados de clientes</td>\n",
              "      <td>...</td>\n",
              "      <td>Crítico</td>\n",
              "      <td>sim</td>\n",
              "      <td>não</td>\n",
              "      <td>gravações são armazenadas no servidor e na nuvem</td>\n",
              "      <td>NaN</td>\n",
              "      <td>não</td>\n",
              "      <td>sim</td>\n",
              "      <td>não</td>\n",
              "      <td>sim</td>\n",
              "      <td>Outros</td>\n",
              "    </tr>\n",
              "    <tr>\n",
              "      <th>2</th>\n",
              "      <td>Q0017395</td>\n",
              "      <td>teste2</td>\n",
              "      <td>PRESIDENTE</td>\n",
              "      <td>Segurança da Informação</td>\n",
              "      <td>Backup gravações</td>\n",
              "      <td>backup de gravações telefonicas</td>\n",
              "      <td>Filezilla, Dropbox</td>\n",
              "      <td>NaN</td>\n",
              "      <td>Dados de Clientes</td>\n",
              "      <td>NaN</td>\n",
              "      <td>...</td>\n",
              "      <td>NaN</td>\n",
              "      <td>NaN</td>\n",
              "      <td>NaN</td>\n",
              "      <td>NaN</td>\n",
              "      <td>NaN</td>\n",
              "      <td>NaN</td>\n",
              "      <td>NaN</td>\n",
              "      <td>NaN</td>\n",
              "      <td>NaN</td>\n",
              "      <td>NaN</td>\n",
              "    </tr>\n",
              "    <tr>\n",
              "      <th>3</th>\n",
              "      <td>Q0017404</td>\n",
              "      <td>Teste</td>\n",
              "      <td>PRESIDENTE</td>\n",
              "      <td>Segurança da Informação</td>\n",
              "      <td>Backup gravações</td>\n",
              "      <td>Backup</td>\n",
              "      <td>Dropbox</td>\n",
              "      <td>NaN</td>\n",
              "      <td>Dados de Clientes</td>\n",
              "      <td>NaN</td>\n",
              "      <td>...</td>\n",
              "      <td>NaN</td>\n",
              "      <td>NaN</td>\n",
              "      <td>NaN</td>\n",
              "      <td>NaN</td>\n",
              "      <td>NaN</td>\n",
              "      <td>NaN</td>\n",
              "      <td>NaN</td>\n",
              "      <td>NaN</td>\n",
              "      <td>NaN</td>\n",
              "      <td>NaN</td>\n",
              "    </tr>\n",
              "    <tr>\n",
              "      <th>4</th>\n",
              "      <td>Q0019978</td>\n",
              "      <td>GIU</td>\n",
              "      <td>PRESIDENTE</td>\n",
              "      <td>Tecnologia da Informação</td>\n",
              "      <td>GIU - Gestão Institucional Unimed</td>\n",
              "      <td>A solicitação do Login e senha para a esta fer...</td>\n",
              "      <td>Glpi, Giu</td>\n",
              "      <td>NaN</td>\n",
              "      <td>Dados de colaboradores</td>\n",
              "      <td>NaN</td>\n",
              "      <td>...</td>\n",
              "      <td>NaN</td>\n",
              "      <td>NaN</td>\n",
              "      <td>NaN</td>\n",
              "      <td>NaN</td>\n",
              "      <td>NaN</td>\n",
              "      <td>NaN</td>\n",
              "      <td>NaN</td>\n",
              "      <td>NaN</td>\n",
              "      <td>NaN</td>\n",
              "      <td>NaN</td>\n",
              "    </tr>\n",
              "  </tbody>\n",
              "</table>\n",
              "<p>5 rows × 66 columns</p>\n",
              "</div>"
            ],
            "text/plain": [
              "     number ﻿nome_do_questionario ﻿lgpd_diretoria                ﻿lgpd_area  \\\n",
              "0  Q0016892          Teste Unimed  ADMINISTRATIVA  Gerencia Administrativa    \n",
              "1  Q0017268              backup -      PRESIDENTE   Segurança da Informação   \n",
              "2  Q0017395                teste2      PRESIDENTE   Segurança da Informação   \n",
              "3  Q0017404                 Teste      PRESIDENTE   Segurança da Informação   \n",
              "4  Q0019978                   GIU      PRESIDENTE  Tecnologia da Informação   \n",
              "\n",
              "                      ﻿lgpd_processo  \\\n",
              "0                  RATEIO CONTA VIVO   \n",
              "1                   Backup gravações   \n",
              "2                   Backup gravações   \n",
              "3                   Backup gravações   \n",
              "4  GIU - Gestão Institucional Unimed   \n",
              "\n",
              "                              ﻿descricao_do_processo  \\\n",
              "0                                       Teste Unimed   \n",
              "1  REALIZAR BACKUP DAS GRAVAÇÕES CALLCENTER E RAM...   \n",
              "2                    backup de gravações telefonicas   \n",
              "3                                             Backup   \n",
              "4  A solicitação do Login e senha para a esta fer...   \n",
              "\n",
              "                      ﻿lgpd_sistema  ﻿outros_sistemas  \\\n",
              "0  Acesso A Internet, Acesso A Site               NaN   \n",
              "1                Filezilla, Dropbox               NaN   \n",
              "2                Filezilla, Dropbox               NaN   \n",
              "3                           Dropbox               NaN   \n",
              "4                         Glpi, Giu               NaN   \n",
              "\n",
              "                                    ﻿categoria_dados ﻿outras_categoria_dados  \\\n",
              "0  abb989921b4efc10ff2f0f60f54bcbb4, Outras categ...        Teste Unimed....   \n",
              "1                                  Outras categorias       Dados de clientes   \n",
              "2                                  Dados de Clientes                     NaN   \n",
              "3                                  Dados de Clientes                     NaN   \n",
              "4                             Dados de colaboradores                     NaN   \n",
              "\n",
              "   ...   ﻿u_criticidade ﻿u_finalidade_legitima ﻿u_principio_minizacao  \\\n",
              "0  ...  Sem Criticidade                    NaN                    NaN   \n",
              "1  ...          Crítico                    sim                   não    \n",
              "2  ...              NaN                    NaN                    NaN   \n",
              "3  ...              NaN                    NaN                    NaN   \n",
              "4  ...              NaN                    NaN                    NaN   \n",
              "\n",
              "                                 ﻿u_situacao_correta ﻿u_outra_base_legal  \\\n",
              "0                                                NaN                 NaN   \n",
              "1  gravações são armazenadas no servidor e na nuvem                  NaN   \n",
              "2                                                NaN                 NaN   \n",
              "3                                                NaN                 NaN   \n",
              "4                                                NaN                 NaN   \n",
              "\n",
              "  ﻿u_direitos_titular_parecer_juridico ﻿u_tratamento_dado  \\\n",
              "0                                  NaN                NaN   \n",
              "1                                  não                sim   \n",
              "2                                  NaN                NaN   \n",
              "3                                  NaN                NaN   \n",
              "4                                  NaN                NaN   \n",
              "\n",
              "  ﻿u_mecanismos_oposicao ﻿u_principio_transparencia ﻿u_medida_mitigacao  \n",
              "0                    NaN                        NaN                 NaN  \n",
              "1                   não                         sim              Outros  \n",
              "2                    NaN                        NaN                 NaN  \n",
              "3                    NaN                        NaN                 NaN  \n",
              "4                    NaN                        NaN                 NaN  \n",
              "\n",
              "[5 rows x 66 columns]"
            ]
          },
          "execution_count": 4,
          "metadata": {},
          "output_type": "execute_result"
        }
      ],
      "source": [
        "df4.head()\n"
      ]
    },
    {
      "cell_type": "code",
      "execution_count": 6,
      "metadata": {
        "id": "gFMxJuWX79UP"
      },
      "outputs": [],
      "source": [
        "#limpa caractere especiais e espaços em branco\n",
        "df1.columns = [col.strip().lstrip('\\ufeff') for col in df1.columns]\n",
        "df2.columns = [col.strip().lstrip('\\ufeff') for col in df2.columns]\n",
        "df3.columns = [col.strip().lstrip('\\ufeff') for col in df3.columns]\n",
        "df4.columns = [col.strip().lstrip('\\ufeff') for col in df4.columns]\n",
        "df5.columns = [col.strip().lstrip('\\ufeff') for col in df5.columns]\n",
        "df6.columns = [col.strip().lstrip('\\ufeff') for col in df6.columns]\n",
        "\n",
        "\n"
      ]
    },
    {
      "cell_type": "code",
      "execution_count": 9,
      "metadata": {},
      "outputs": [
        {
          "data": {
            "text/plain": [
              "u_conformidade\n",
              "Sim             79\n",
              "Não              2\n",
              "Parcialmente     1\n",
              "Name: count, dtype: int64"
            ]
          },
          "execution_count": 9,
          "metadata": {},
          "output_type": "execute_result"
        }
      ],
      "source": [
        "#print(df4['u_conformidade'])\n",
        "\n",
        "df4['u_conformidade'].value_counts()\n"
      ]
    },
    {
      "cell_type": "code",
      "execution_count": null,
      "metadata": {},
      "outputs": [],
      "source": [
        "\n",
        "#df1.columns\n",
        "#alternativa melhorar codigo usar uma lista de colunas de uma fonte especifica como base\n",
        "lista1 = df1.columns.tolist()\n",
        "print(lista1)\n",
        "lista2 = df2.columns.tolist()\n",
        "print(lista2)\n",
        "\n",
        "\n",
        "\n",
        "# Converter as listas em conjuntos\n",
        "set1 = set(lista1)\n",
        "set2 = set(lista2)\n",
        "\n",
        "# Elementos presentes apenas em lista1\n",
        "diferentes_lista1 = set1 - set2\n",
        "\n",
        "# Elementos presentes apenas em lista2\n",
        "diferentes_lista2 = set2 - set1\n",
        "\n",
        "print(\"Elementos diferentes em lista1:\", diferentes_lista1)\n",
        "print(\"Elementos diferentes em lista2:\", diferentes_lista2)\n",
        "\n",
        "#Esta alternativa e muito morosa, procurando solucao para automatizar tudo, sem precisar de um a um\n",
        "#pensando em criar um dicionario com as colunas de cada dataframe e comparar os dicionarios\n",
        "# ou gerar um data frame baseado na intersection dos dataframes e comparar com os demais"
      ]
    },
    {
      "cell_type": "code",
      "execution_count": null,
      "metadata": {},
      "outputs": [],
      "source": []
    },
    {
      "cell_type": "code",
      "execution_count": null,
      "metadata": {},
      "outputs": [],
      "source": [
        "\n",
        "campos_lgpd = [\n",
        "\n",
        "       'number', 'nome_do_questionario', 'lgpd_diretoria', 'lgpd_area',\n",
        "       'lgpd_processo', 'descricao_do_processo', 'lgpd_sistema',\n",
        "       'outros_sistemas', 'categoria_dados', 'outras_categoria_dados',\n",
        "       'tipo_dado_pessoal', 'outro_tipo_dado_pessoal', 'dado_pessoal_sensivel',\n",
        "       'outro_tipo_de_dado_pessoal_sensivel',\n",
        "       'fonte_origem_dos_dados_pessoais',\n",
        "       'outra_fonte_origem_dos_dados_pessoais', 'paises_utilizando_o_processo',\n",
        "       'titulares_de_dados_volume', 'localizacao', 'localizacao_outro',\n",
        "       'finalidade', 'finalidade_outro',\n",
        "       'os_dados_tratados_sao_limitados_aos_fins_espec_ficos_que_justificam_sua_coleta',\n",
        "       'solicitacao_de_consentimento_quanto_a_coleta',\n",
        "       'possibilidade_de_retirada_de_consentimento',\n",
        "       'descricao_retirada_consentimento',\n",
        "       'areas_internas_com_acesso_aos_dados',\n",
        "       'quais_areas_internas_da_organizacao',\n",
        "       'finalidade_compartilhamento_interno',\n",
        "       'outras_finalidades_areas_internas',\n",
        "       'compartilhamento_com_terceiros_operadores',\n",
        "       'metodo_de_transferencia_para_destinos',\n",
        "       'outros_metodo_de_transferencia_para_destinos', 'tipos_de_terceiros',\n",
        "       'nome_dos_terceiros',\n",
        "       'ha_transferencia_internacional_de_dados_pessoais',\n",
        "       'assinale_abaixo_as_pol_ticas_j_utilizadas_na_sua_rea_processo',\n",
        "       'partes_que_acessam_usam_os_dados', 'temporalidade', 'u_unidade_tempo',\n",
        "       'medidas_seguranca', 'outras_medidas_seguranca',\n",
        "       'canal_de_comunicacao_questionario', 'qual_o_canal_de_comunicacao',\n",
        "       'u_direitos_titular', 'tomada_decisao_automatizada',\n",
        "       'meio_automatizado', 'declaracaociencia',\n",
        "       'tipo_do_responsavel_pelo_tratamento', 'u_conformidade',\n",
        "       'base_legal_lgpd', 'u_instrumentos_juridicos_sugeridos',\n",
        "       'observacoes_gerais', 'tempo_de_retencao',\n",
        "       'justificativa_para_o_tempo_de_reten_o'\n",
        "        # Adicione outros campos conforme necessário\n",
        "    ]\n",
        "\n"
      ]
    },
    {
      "cell_type": "code",
      "execution_count": null,
      "metadata": {
        "id": "-rs0jkVP8Dzm"
      },
      "outputs": [],
      "source": [
        "# Supondo que 'df' seja o DataFrame original, você cria um novo DataFrame 'novoDF' contendo apenas as colunas listadas acima.\n",
        "novoDF1 = df1[campos_lgpd].copy()"
      ]
    },
    {
      "cell_type": "code",
      "execution_count": null,
      "metadata": {
        "colab": {
          "base_uri": "https://localhost:8080/"
        },
        "id": "rTAh2Pk2TVjH",
        "outputId": "3cc2d168-9e74-4e5d-c1ed-0275a3450f28"
      },
      "outputs": [],
      "source": [
        "novoDF2 = df2[campos_lgpd].copy()\n",
        "df2.info()"
      ]
    },
    {
      "cell_type": "code",
      "execution_count": null,
      "metadata": {
        "colab": {
          "base_uri": "https://localhost:8080/",
          "height": 366
        },
        "id": "eW3DgditCWdL",
        "outputId": "8e22ce9a-1cb7-4589-949f-4fb361faff17"
      },
      "outputs": [],
      "source": [
        "df2_caminho = '/content/Questionários x_edset_lgpdnow_questionario_oab_sp - OAB-SP.csv'\n",
        "df2 = pd.read_csv(df2_caminho, delimiter =';', on_bad_lines= 'skip')\n",
        "df2.head(3)"
      ]
    },
    {
      "cell_type": "code",
      "execution_count": null,
      "metadata": {
        "id": "R_TaqUoNCWfw"
      },
      "outputs": [],
      "source": [
        "df3_caminho = '/content/Questionários x_edset_lgpdnow_questionario_otimatel - Otimatel.csv'\n",
        "df3= pd.read_csv(df3_caminho, delimiter =';')"
      ]
    },
    {
      "cell_type": "code",
      "execution_count": null,
      "metadata": {
        "id": "mTjjN0e5CWiS"
      },
      "outputs": [],
      "source": [
        "df4_caminho ='/content/Questionários x_edset_lgpdnow_questionario_perola_distribuicao - Pérola Distribuição.csv'\n",
        "\n",
        "df4= pd.read_csv(df4_caminho, delimiter =';')"
      ]
    },
    {
      "cell_type": "code",
      "execution_count": null,
      "metadata": {
        "id": "MB0jFgVGCWlJ"
      },
      "outputs": [],
      "source": [
        "df5_caminho ='/content/Questionários x_edset_lgpdnow_questionario_santa_casa - R2 Technology.csv'\n",
        "\n",
        "df5= pd.read_csv(df5_caminho, delimiter =';')"
      ]
    },
    {
      "cell_type": "code",
      "execution_count": null,
      "metadata": {
        "id": "iZTO8L4hCWng"
      },
      "outputs": [],
      "source": [
        "df6_caminho ='/content/Questionários x_edset_lgpdnow_questionario_unimed - UNIMED NI.csv'\n",
        "\n",
        "df6= pd.read_csv(df6_caminho, delimiter =';')"
      ]
    },
    {
      "cell_type": "code",
      "execution_count": null,
      "metadata": {
        "id": "nS-KkCVSCWsD"
      },
      "outputs": [],
      "source": [
        "df7_caminho='/content/Questionários x_edset_lgpdnow_questionario_viaflow - Fundacred.csv'\n",
        "\n",
        "df7= pd.read_csv(df7_caminho, delimiter =';')"
      ]
    },
    {
      "cell_type": "code",
      "execution_count": null,
      "metadata": {
        "id": "Wo3x0fAvCWwK"
      },
      "outputs": [],
      "source": [
        "df8_caminho = '/content/Questionários x_edset_lgpdnow_questionario_viaflow - Via flow.csv'\n",
        "\n",
        "df8= pd.read_csv(df8_caminho, delimiter =';')"
      ]
    },
    {
      "cell_type": "code",
      "execution_count": null,
      "metadata": {
        "id": "IzgDt7dCCqTz"
      },
      "outputs": [],
      "source": [
        "df9_caminho = '/content/Questionários x_edset_lgpdnow_questionario_vtc_operadora_logistica_v2 - VTC Log.csv'\n",
        "\n",
        "df9= pd.read_csv(df9_caminho, delimiter =';')"
      ]
    },
    {
      "cell_type": "code",
      "execution_count": null,
      "metadata": {
        "id": "InHCUvIRCqWF"
      },
      "outputs": [],
      "source": [
        "df10_caminho = '/content/Questionários x_edset_lgpdnow_questionario_vtc_operadora_logistica_v2 - Voetur Turismo.csv'\n",
        "\n",
        "df10= pd.read_csv(df10_caminho, delimiter =';')"
      ]
    },
    {
      "cell_type": "code",
      "execution_count": null,
      "metadata": {
        "id": "wlFcdt1iCqYa"
      },
      "outputs": [],
      "source": [
        "df11_caminho ='/content/Questionários x_edset_lgpdnow_questionarios - Talkcomm.csv'\n",
        "\n",
        "df11= pd.read_csv(df11_caminho, delimiter =';')"
      ]
    },
    {
      "cell_type": "code",
      "execution_count": null,
      "metadata": {
        "id": "434_7dTHCqbC"
      },
      "outputs": [],
      "source": [
        "df12_caminho = '/content/Questionários x_edset_lgpdnow_questionarios_flamengo - Flamengo.csv'\n",
        "\n",
        "df12= pd.read_csv(df12_caminho, delimiter =';')"
      ]
    },
    {
      "cell_type": "code",
      "execution_count": null,
      "metadata": {
        "id": "1-P8bgh_Cqdt"
      },
      "outputs": [],
      "source": [
        "df13_caminho = '/content/Questionários x_edset_lgpdnow_questionarios_gruponc - Grupo NC.csv'\n",
        "\n",
        "df13= pd.read_csv(df13_caminho, delimiter =';')"
      ]
    },
    {
      "cell_type": "code",
      "execution_count": null,
      "metadata": {
        "id": "MKDn3Q13C80h"
      },
      "outputs": [],
      "source": [
        "df14_caminho = '/content/Questionários x_edset_lgpdnow_questionarios_pismo - Pismo.csv'\n",
        "\n",
        "df14= pd.read_csv(df14_caminho, delimiter =';')"
      ]
    },
    {
      "cell_type": "code",
      "execution_count": null,
      "metadata": {
        "id": "Fq2DDXwYC84W"
      },
      "outputs": [],
      "source": [
        "df15_caminho = '/content/Questionários x_edset_lgpdnow_questionarios_raizen - Raízen.csv'\n",
        "\n",
        "df15= pd.read_csv(df15_caminho, delimiter =';')"
      ]
    },
    {
      "cell_type": "code",
      "execution_count": null,
      "metadata": {
        "id": "yznuyQvkE3bK"
      },
      "outputs": [],
      "source": [
        "#CONCATENA TODOS DATASETS\n",
        "df_f = pd.concat([df1, df2, df3,df4,df5,df6,df7,df8,df9,df10,df11,df12,df13,df14,df15], axis=0)"
      ]
    },
    {
      "cell_type": "markdown",
      "metadata": {
        "id": "EELsFTHodYsp"
      },
      "source": [
        "##Salva Dataset em disco"
      ]
    },
    {
      "cell_type": "code",
      "execution_count": null,
      "metadata": {
        "id": "ho-ul_KVcCkH"
      },
      "outputs": [],
      "source": [
        "#DATAFRAME PARA EXCEL\n",
        "df_f.to_excel('df_full.xlsx', index=False)"
      ]
    },
    {
      "cell_type": "code",
      "execution_count": null,
      "metadata": {
        "id": "1jBYnKU1cCse"
      },
      "outputs": [],
      "source": [
        "#DATAFRAME PARA CSV\n",
        "df_f.to_csv('df_full.csv', index=False)"
      ]
    },
    {
      "cell_type": "markdown",
      "metadata": {
        "id": "qHwf_v6-d4pQ"
      },
      "source": [
        "##ANÁLISE COMPLEMENTAR DO DATASET"
      ]
    },
    {
      "cell_type": "code",
      "execution_count": null,
      "metadata": {
        "colab": {
          "base_uri": "https://localhost:8080/"
        },
        "id": "razP0CGBkVEZ",
        "outputId": "75d515e1-80ab-4978-c5a0-9b622c1ba1ee"
      },
      "outputs": [],
      "source": [
        "df_f.info()"
      ]
    },
    {
      "cell_type": "code",
      "execution_count": null,
      "metadata": {
        "colab": {
          "base_uri": "https://localhost:8080/"
        },
        "id": "JSzsUn8WeYDv",
        "outputId": "173af9ee-b07b-4f87-c714-fe97e625231a"
      },
      "outputs": [],
      "source": [
        "#Colunas do dataset\n",
        "colunas = df_f.columns\n",
        "colunas"
      ]
    },
    {
      "cell_type": "code",
      "execution_count": null,
      "metadata": {
        "colab": {
          "base_uri": "https://localhost:8080/"
        },
        "id": "6R4a0ZZkT0yf",
        "outputId": "d8b8887e-192a-4cbb-8df9-dd0613df3e36"
      },
      "outputs": [],
      "source": [
        "#IDENTIFICA VALORES DISTINTOS EM CADA COLUNA (PARA O DATASET TOTAL)\n",
        "valores_distintos_por_coluna = {}\n",
        "\n",
        "# loop\n",
        "for coluna in df_f.columns:\n",
        "    # valores distintos da coluna\n",
        "    valores_distintos = df_f[coluna].unique()\n",
        "    # dicionário de valores distintos\n",
        "    valores_distintos_por_coluna[coluna] = valores_distintos\n",
        "\n",
        "# valores distintos de cada coluna\n",
        "for coluna, valores in valores_distintos_por_coluna.items():\n",
        "    print(f\"Coluna: {coluna}\")\n",
        "    print(f\"Valores distintos: {valores}\\n\")"
      ]
    },
    {
      "cell_type": "code",
      "execution_count": null,
      "metadata": {
        "id": "fDhdaWH0eFzK"
      },
      "outputs": [],
      "source": []
    },
    {
      "cell_type": "markdown",
      "metadata": {
        "id": "-1RVCmGueJHv"
      },
      "source": [
        "##ANÁLISE INDIVIDUAL DE CADA DATASET"
      ]
    },
    {
      "cell_type": "code",
      "execution_count": null,
      "metadata": {
        "colab": {
          "base_uri": "https://localhost:8080/"
        },
        "id": "_J-ugguBk4Uv",
        "outputId": "3669898a-6d4c-4401-d39e-415aeb314303"
      },
      "outputs": [],
      "source": [
        "df1.info()"
      ]
    },
    {
      "cell_type": "code",
      "execution_count": null,
      "metadata": {
        "colab": {
          "base_uri": "https://localhost:8080/"
        },
        "id": "hKiEJd6NlsVB",
        "outputId": "986c3577-a5f5-4b0a-f5a8-675c048f78bb"
      },
      "outputs": [],
      "source": [
        "df1.dtypes"
      ]
    },
    {
      "cell_type": "code",
      "execution_count": null,
      "metadata": {
        "colab": {
          "base_uri": "https://localhost:8080/"
        },
        "id": "eZQRlsP4elHy",
        "outputId": "65fef6c5-2acc-401d-ce12-37dfbaf1f207"
      },
      "outputs": [],
      "source": [
        "#NOME DE COLUNAS\n",
        "colunas = df1.columns\n",
        "colunas\n"
      ]
    },
    {
      "cell_type": "code",
      "execution_count": null,
      "metadata": {
        "colab": {
          "base_uri": "https://localhost:8080/",
          "height": 320
        },
        "id": "_Mnm0KWeelPf",
        "outputId": "4ea9c469-0c5a-460c-ebd7-462c6809bb20"
      },
      "outputs": [],
      "source": [
        "df_describe = df1.describe()\n",
        "df_describe"
      ]
    },
    {
      "cell_type": "code",
      "execution_count": null,
      "metadata": {
        "id": "JWSLZj2gelWK"
      },
      "outputs": [],
      "source": []
    },
    {
      "cell_type": "code",
      "execution_count": null,
      "metadata": {
        "id": "NAka_9DDeldM"
      },
      "outputs": [],
      "source": []
    },
    {
      "cell_type": "code",
      "execution_count": null,
      "metadata": {
        "colab": {
          "base_uri": "https://localhost:8080/"
        },
        "id": "YZEjYff0eP13",
        "outputId": "67f6c993-a9c1-447f-b83c-0eb16cc709cc"
      },
      "outputs": [],
      "source": [
        "#IDENTIFICA VALORES DISTINTOS EM CADA COLUNA (editavel)\n",
        "valores_distintos_por_coluna = {}\n",
        "\n",
        "# loop\n",
        "for coluna in df1.columns:\n",
        "    # valores distintos da coluna\n",
        "    valores_distintos = df1[coluna].unique()\n",
        "    # dicionário de valores distintos\n",
        "    valores_distintos_por_coluna[coluna] = valores_distintos\n",
        "\n",
        "# valores distintos de cada coluna\n",
        "for coluna, valores in valores_distintos_por_coluna.items():\n",
        "    print(f\"Coluna: {coluna}\")\n",
        "    print(f\"Valores distintos: {valores}\\n\")"
      ]
    },
    {
      "cell_type": "code",
      "execution_count": null,
      "metadata": {
        "id": "GX0_2UBCiajq"
      },
      "outputs": [],
      "source": [
        "import pandas as pd\n",
        "\n",
        "def comparar_datasets(df1, df2):\n",
        "    # Comparar nomes das colunas\n",
        "    colunas_df1 = set(df1.columns)\n",
        "    colunas_df2 = set(df2.columns)\n",
        "\n",
        "    colunas_comuns = colunas_df1.intersection(colunas_df2)\n",
        "    colunas_unicas_df1 = colunas_df1 - colunas_df2\n",
        "    colunas_unicas_df2 = colunas_df2 - colunas_df1\n",
        "\n",
        "    # Comparar quantidade de linhas\n",
        "    linhas_df1 = len(df1)\n",
        "    linhas_df2 = len(df2)\n",
        "\n",
        "    resultado = {\n",
        "        \"Colunas comuns\": colunas_comuns,\n",
        "        \"Colunas únicas no df1\": colunas_unicas_df1,\n",
        "        \"Colunas únicas no df2\": colunas_unicas_df2,\n",
        "        \"Quantidade de linhas no df1\": linhas_df1,\n",
        "        \"Quantidade de linhas no df2\": linhas_df2\n",
        "    }\n",
        "\n",
        "    return resultado\n",
        "\n",
        "# Exemplo de uso:\n",
        "\n",
        "# Carregar datasets em DataFrames\n",
        "df1 = pd.read_csv('caminho_para_dataset1.csv')\n",
        "df2 = pd.read_csv('caminho_para_dataset2.csv')\n",
        "\n",
        "# Chamar a função para comparar os datasets\n",
        "resultado_comparacao = comparar_datasets(df1, df2)\n",
        "\n",
        "# Exibir o resultado\n",
        "for chave, valor in resultado_comparacao.items():\n",
        "    print(f\"{chave}: {valor}\")"
      ]
    }
  ],
  "metadata": {
    "colab": {
      "provenance": []
    },
    "kernelspec": {
      "display_name": "Python 3",
      "name": "python3"
    },
    "language_info": {
      "codemirror_mode": {
        "name": "ipython",
        "version": 3
      },
      "file_extension": ".py",
      "mimetype": "text/x-python",
      "name": "python",
      "nbconvert_exporter": "python",
      "pygments_lexer": "ipython3",
      "version": "3.11.5"
    }
  },
  "nbformat": 4,
  "nbformat_minor": 0
}
